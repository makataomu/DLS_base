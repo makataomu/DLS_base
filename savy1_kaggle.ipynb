{
  "cells": [
    {
      "cell_type": "markdown",
      "metadata": {
        "id": "view-in-github",
        "colab_type": "text"
      },
      "source": [
        "<a href=\"https://colab.research.google.com/github/makataomu/DLS_base/blob/main/savy1_kaggle.ipynb\" target=\"_parent\"><img src=\"https://colab.research.google.com/assets/colab-badge.svg\" alt=\"Open In Colab\"/></a>"
      ]
    },
    {
      "cell_type": "markdown",
      "metadata": {
        "id": "N-LXAn3JyMm2"
      },
      "source": [
        "we need to predict the chance of admit"
      ]
    },
    {
      "cell_type": "code",
      "execution_count": null,
      "metadata": {
        "id": "JSr5nS1Iox76"
      },
      "outputs": [],
      "source": [
        "import pandas as pd"
      ]
    },
    {
      "cell_type": "code",
      "execution_count": null,
      "metadata": {
        "colab": {
          "base_uri": "https://localhost:8080/"
        },
        "id": "zEGLZk7jsPzz",
        "outputId": "6c70dafc-fa79-4dad-e31c-0edb857b6c21"
      },
      "outputs": [
        {
          "output_type": "stream",
          "name": "stdout",
          "text": [
            "   Serial No.  GRE Score  TOEFL Score  University Rating  SOP  LOR   CGPA  \\\n",
            "0           1        337          118                  4  4.5   4.5  9.65   \n",
            "1           2        324          107                  4  4.0   4.5  8.87   \n",
            "2           3        316          104                  3  3.0   3.5  8.00   \n",
            "3           4        322          110                  3  3.5   2.5  8.67   \n",
            "4           5        314          103                  2  2.0   3.0  8.21   \n",
            "\n",
            "   Research  Chance of Admit   \n",
            "0         1              0.92  \n",
            "1         1              0.76  \n",
            "2         1              0.72  \n",
            "3         1              0.80  \n",
            "4         0              0.65  \n",
            "(400, 9)\n",
            "   Serial No.  GRE Score  TOEFL Score  University Rating  SOP  LOR   CGPA  \\\n",
            "0           1        337          118                  4  4.5   4.5  9.65   \n",
            "1           2        324          107                  4  4.0   4.5  8.87   \n",
            "2           3        316          104                  3  3.0   3.5  8.00   \n",
            "3           4        322          110                  3  3.5   2.5  8.67   \n",
            "4           5        314          103                  2  2.0   3.0  8.21   \n",
            "\n",
            "   Research  Chance of Admit   \n",
            "0         1              0.92  \n",
            "1         1              0.76  \n",
            "2         1              0.72  \n",
            "3         1              0.80  \n",
            "4         0              0.65  \n",
            "(500, 9)\n"
          ]
        }
      ],
      "source": [
        "ap = pd.read_csv('/content/drive/MyDrive/Colab Notebooks/savy/Admission_Predict.csv')\n",
        "print(ap.head())\n",
        "print(ap.shape)\n",
        "ap11 = pd.read_csv('/content/drive/MyDrive/Colab Notebooks/savy/Admission_Predict_Ver1.1.csv', sep=',')\n",
        "print(ap11.head())\n",
        "print(ap11.shape)"
      ]
    },
    {
      "cell_type": "code",
      "execution_count": null,
      "metadata": {
        "colab": {
          "base_uri": "https://localhost:8080/"
        },
        "id": "l-Bf5WQt56dd",
        "outputId": "48324d5e-2e0d-4b3c-a205-676ba4c2f4d2"
      },
      "outputs": [
        {
          "output_type": "stream",
          "name": "stdout",
          "text": [
            "<class 'pandas.core.frame.DataFrame'>\n",
            "RangeIndex: 400 entries, 0 to 399\n",
            "Data columns (total 9 columns):\n",
            " #   Column             Non-Null Count  Dtype  \n",
            "---  ------             --------------  -----  \n",
            " 0   Serial No.         400 non-null    int64  \n",
            " 1   GRE Score          400 non-null    int64  \n",
            " 2   TOEFL Score        400 non-null    int64  \n",
            " 3   University Rating  400 non-null    int64  \n",
            " 4   SOP                400 non-null    float64\n",
            " 5   LOR                400 non-null    float64\n",
            " 6   CGPA               400 non-null    float64\n",
            " 7   Research           400 non-null    int64  \n",
            " 8   Chance of Admit    400 non-null    float64\n",
            "dtypes: float64(4), int64(5)\n",
            "memory usage: 28.2 KB\n"
          ]
        }
      ],
      "source": [
        "#let's check all values\n",
        "ap.info()"
      ]
    },
    {
      "cell_type": "code",
      "source": [
        "num_cols = [\n",
        "    'GRE Score',\n",
        "    'TOEFL Score',\n",
        "    'University Rating',\n",
        "    'SOP',\n",
        "    'LOR',\n",
        "    'CGPA',\n",
        "    'Research'\n",
        "]\n",
        "\n",
        "target_col = 'Chance of Admit'\n",
        "\n",
        "ap.columns = ap.columns.to_series().apply(lambda x: x.strip())\n",
        "\n",
        "cols = num_cols + [target_col]\n",
        "ap = ap[cols]"
      ],
      "metadata": {
        "id": "RgUBUftOJzR2"
      },
      "execution_count": null,
      "outputs": []
    },
    {
      "cell_type": "code",
      "execution_count": null,
      "metadata": {
        "colab": {
          "base_uri": "https://localhost:8080/",
          "height": 728
        },
        "id": "zExKC3BS7R_H",
        "outputId": "1bf188bc-c616-4fc8-e23c-f68b2bcc5843"
      },
      "outputs": [
        {
          "output_type": "display_data",
          "data": {
            "text/plain": [
              "<Figure size 1400x1000 with 9 Axes>"
            ],
            "image/png": "[encoded data removed]"
          },
          "metadata": {}
        }
      ],
      "source": [
        "#fancy stuff\n",
        "ap.hist(figsize=(14, 10))\n",
        "None"
      ]
    },
    {
      "cell_type": "code",
      "execution_count": null,
      "metadata": {
        "colab": {
          "base_uri": "https://localhost:8080/",
          "height": 300
        },
        "id": "xzlhOK_j9z_H",
        "outputId": "096601b3-896c-4fbd-8b4e-477fc3c07ff5"
      },
      "outputs": [
        {
          "output_type": "execute_result",
          "data": {
            "text/plain": [
              "        GRE Score  TOEFL Score  University Rating         SOP         LOR  \\\n",
              "count  400.000000   400.000000         400.000000  400.000000  400.000000   \n",
              "mean   316.807500   107.410000           3.087500    3.400000    3.452500   \n",
              "std     11.473646     6.069514           1.143728    1.006869    0.898478   \n",
              "min    290.000000    92.000000           1.000000    1.000000    1.000000   \n",
              "25%    308.000000   103.000000           2.000000    2.500000    3.000000   \n",
              "50%    317.000000   107.000000           3.000000    3.500000    3.500000   \n",
              "75%    325.000000   112.000000           4.000000    4.000000    4.000000   \n",
              "max    340.000000   120.000000           5.000000    5.000000    5.000000   \n",
              "\n",
              "             CGPA    Research  Chance of Admit  \n",
              "count  400.000000  400.000000       400.000000  \n",
              "mean     8.598925    0.547500         0.724350  \n",
              "std      0.596317    0.498362         0.142609  \n",
              "min      6.800000    0.000000         0.340000  \n",
              "25%      8.170000    0.000000         0.640000  \n",
              "50%      8.610000    1.000000         0.730000  \n",
              "75%      9.062500    1.000000         0.830000  \n",
              "max      9.920000    1.000000         0.970000  "
            ],
            "text/html": [
              "\n",
              "  <div id=\"df-60328313-a491-4070-a3b5-d5941abd2b4d\">\n",
              "    <div class=\"colab-df-container\">\n",
              "      <div>\n",
              "<style scoped>\n",
              "    .dataframe tbody tr th:only-of-type {\n",
              "        vertical-align: middle;\n",
              "    }\n",
              "\n",
              "    .dataframe tbody tr th {\n",
              "        vertical-align: top;\n",
              "    }\n",
              "\n",
              "    .dataframe thead th {\n",
              "        text-align: right;\n",
              "    }\n",
              "</style>\n",
              "<table border=\"1\" class=\"dataframe\">\n",
              "  <thead>\n",
              "    <tr style=\"text-align: right;\">\n",
              "      <th></th>\n",
              "      <th>GRE Score</th>\n",
              "      <th>TOEFL Score</th>\n",
              "      <th>University Rating</th>\n",
              "      <th>SOP</th>\n",
              "      <th>LOR</th>\n",
              "      <th>CGPA</th>\n",
              "      <th>Research</th>\n",
              "      <th>Chance of Admit</th>\n",
              "    </tr>\n",
              "  </thead>\n",
              "  <tbody>\n",
              "    <tr>\n",
              "      <th>count</th>\n",
              "      <td>400.000000</td>\n",
              "      <td>400.000000</td>\n",
              "      <td>400.000000</td>\n",
              "      <td>400.000000</td>\n",
              "      <td>400.000000</td>\n",
              "      <td>400.000000</td>\n",
              "      <td>400.000000</td>\n",
              "      <td>400.000000</td>\n",
              "    </tr>\n",
              "    <tr>\n",
              "      <th>mean</th>\n",
              "      <td>316.807500</td>\n",
              "      <td>107.410000</td>\n",
              "      <td>3.087500</td>\n",
              "      <td>3.400000</td>\n",
              "      <td>3.452500</td>\n",
              "      <td>8.598925</td>\n",
              "      <td>0.547500</td>\n",
              "      <td>0.724350</td>\n",
              "    </tr>\n",
              "    <tr>\n",
              "      <th>std</th>\n",
              "      <td>11.473646</td>\n",
              "      <td>6.069514</td>\n",
              "      <td>1.143728</td>\n",
              "      <td>1.006869</td>\n",
              "      <td>0.898478</td>\n",
              "      <td>0.596317</td>\n",
              "      <td>0.498362</td>\n",
              "      <td>0.142609</td>\n",
              "    </tr>\n",
              "    <tr>\n",
              "      <th>min</th>\n",
              "      <td>290.000000</td>\n",
              "      <td>92.000000</td>\n",
              "      <td>1.000000</td>\n",
              "      <td>1.000000</td>\n",
              "      <td>1.000000</td>\n",
              "      <td>6.800000</td>\n",
              "      <td>0.000000</td>\n",
              "      <td>0.340000</td>\n",
              "    </tr>\n",
              "    <tr>\n",
              "      <th>25%</th>\n",
              "      <td>308.000000</td>\n",
              "      <td>103.000000</td>\n",
              "      <td>2.000000</td>\n",
              "      <td>2.500000</td>\n",
              "      <td>3.000000</td>\n",
              "      <td>8.170000</td>\n",
              "      <td>0.000000</td>\n",
              "      <td>0.640000</td>\n",
              "    </tr>\n",
              "    <tr>\n",
              "      <th>50%</th>\n",
              "      <td>317.000000</td>\n",
              "      <td>107.000000</td>\n",
              "      <td>3.000000</td>\n",
              "      <td>3.500000</td>\n",
              "      <td>3.500000</td>\n",
              "      <td>8.610000</td>\n",
              "      <td>1.000000</td>\n",
              "      <td>0.730000</td>\n",
              "    </tr>\n",
              "    <tr>\n",
              "      <th>75%</th>\n",
              "      <td>325.000000</td>\n",
              "      <td>112.000000</td>\n",
              "      <td>4.000000</td>\n",
              "      <td>4.000000</td>\n",
              "      <td>4.000000</td>\n",
              "      <td>9.062500</td>\n",
              "      <td>1.000000</td>\n",
              "      <td>0.830000</td>\n",
              "    </tr>\n",
              "    <tr>\n",
              "      <th>max</th>\n",
              "      <td>340.000000</td>\n",
              "      <td>120.000000</td>\n",
              "      <td>5.000000</td>\n",
              "      <td>5.000000</td>\n",
              "      <td>5.000000</td>\n",
              "      <td>9.920000</td>\n",
              "      <td>1.000000</td>\n",
              "      <td>0.970000</td>\n",
              "    </tr>\n",
              "  </tbody>\n",
              "</table>\n",
              "</div>\n",
              "      <button class=\"colab-df-convert\" onclick=\"convertToInteractive('df-60328313-a491-4070-a3b5-d5941abd2b4d')\"\n",
              "              title=\"Convert this dataframe to an interactive table.\"\n",
              "              style=\"display:none;\">\n",
              "        \n",
              "  <svg xmlns=\"http://www.w3.org/2000/svg\" height=\"24px\"viewBox=\"0 0 24 24\"\n",
              "       width=\"24px\">\n",
              "    <path d=\"M0 0h24v24H0V0z\" fill=\"none\"/>\n",
              "    <path d=\"M18.56 5.44l.94 2.06.94-2.06 2.06-.94-2.06-.94-.94-2.06-.94 2.06-2.06.94zm-11 1L8.5 8.5l.94-2.06 2.06-.94-2.06-.94L8.5 2.5l-.94 2.06-2.06.94zm10 10l.94 2.06.94-2.06 2.06-.94-2.06-.94-.94-2.06-.94 2.06-2.06.94z\"/><path d=\"M17.41 7.96l-1.37-1.37c-.4-.4-.92-.59-1.43-.59-.52 0-1.04.2-1.43.59L10.3 9.45l-7.72 7.72c-.78.78-.78 2.05 0 2.83L4 21.41c.39.39.9.59 1.41.59.51 0 1.02-.2 1.41-.59l7.78-7.78 2.81-2.81c.8-.78.8-2.07 0-2.86zM5.41 20L4 18.59l7.72-7.72 1.47 1.35L5.41 20z\"/>\n",
              "  </svg>\n",
              "      </button>\n",
              "      \n",
              "  <style>\n",
              "    .colab-df-container {\n",
              "      display:flex;\n",
              "      flex-wrap:wrap;\n",
              "      gap: 12px;\n",
              "    }\n",
              "\n",
              "    .colab-df-convert {\n",
              "      background-color: #E8F0FE;\n",
              "      border: none;\n",
              "      border-radius: 50%;\n",
              "      cursor: pointer;\n",
              "      display: none;\n",
              "      fill: #1967D2;\n",
              "      height: 32px;\n",
              "      padding: 0 0 0 0;\n",
              "      width: 32px;\n",
              "    }\n",
              "\n",
              "    .colab-df-convert:hover {\n",
              "      background-color: #E2EBFA;\n",
              "      box-shadow: 0px 1px 2px rgba(60, 64, 67, 0.3), 0px 1px 3px 1px rgba(60, 64, 67, 0.15);\n",
              "      fill: #174EA6;\n",
              "    }\n",
              "\n",
              "    [theme=dark] .colab-df-convert {\n",
              "      background-color: #3B4455;\n",
              "      fill: #D2E3FC;\n",
              "    }\n",
              "\n",
              "    [theme=dark] .colab-df-convert:hover {\n",
              "      background-color: #434B5C;\n",
              "      box-shadow: 0px 1px 3px 1px rgba(0, 0, 0, 0.15);\n",
              "      filter: drop-shadow(0px 1px 2px rgba(0, 0, 0, 0.3));\n",
              "      fill: #FFFFFF;\n",
              "    }\n",
              "  </style>\n",
              "\n",
              "      <script>\n",
              "        const buttonEl =\n",
              "          document.querySelector('#df-60328313-a491-4070-a3b5-d5941abd2b4d button.colab-df-convert');\n",
              "        buttonEl.style.display =\n",
              "          google.colab.kernel.accessAllowed ? 'block' : 'none';\n",
              "\n",
              "        async function convertToInteractive(key) {\n",
              "          const element = document.querySelector('#df-60328313-a491-4070-a3b5-d5941abd2b4d');\n",
              "          const dataTable =\n",
              "            await google.colab.kernel.invokeFunction('convertToInteractive',\n",
              "                                                     [key], {});\n",
              "          if (!dataTable) return;\n",
              "\n",
              "          const docLinkHtml = 'Like what you see? Visit the ' +\n",
              "            '<a target=\"_blank\" href=https://colab.research.google.com/notebooks/data_table.ipynb>data table notebook</a>'\n",
              "            + ' to learn more about interactive tables.';\n",
              "          element.innerHTML = '';\n",
              "          dataTable['output_type'] = 'display_data';\n",
              "          await google.colab.output.renderOutput(dataTable, element);\n",
              "          const docLink = document.createElement('div');\n",
              "          docLink.innerHTML = docLinkHtml;\n",
              "          element.appendChild(docLink);\n",
              "        }\n",
              "      </script>\n",
              "    </div>\n",
              "  </div>\n",
              "  "
            ]
          },
          "metadata": {},
          "execution_count": 107
        }
      ],
      "source": [
        "ap.describe()"
      ]
    },
    {
      "cell_type": "code",
      "execution_count": null,
      "metadata": {
        "colab": {
          "base_uri": "https://localhost:8080/",
          "height": 335
        },
        "id": "YAHklZT1BWTN",
        "outputId": "e1d188f6-17bb-4d7e-9bfc-a8e8b6266b21"
      },
      "outputs": [
        {
          "output_type": "stream",
          "name": "stderr",
          "text": [
            "<ipython-input-108-36fd9634fbbf>:1: FutureWarning: this method is deprecated in favour of `Styler.format(precision=..)`\n",
            "  ap.corr().style.background_gradient(cmap='coolwarm').set_precision(2)\n"
          ]
        },
        {
          "output_type": "execute_result",
          "data": {
            "text/plain": [
              "<pandas.io.formats.style.Styler at 0x7f851956aa00>"
            ],
            "text/html": [
              "<style type=\"text/css\">\n",
              "#T_98b3b_row0_col0, #T_98b3b_row1_col1, #T_98b3b_row2_col2, #T_98b3b_row3_col3, #T_98b3b_row4_col4, #T_98b3b_row5_col5, #T_98b3b_row6_col6, #T_98b3b_row7_col7 {\n",
              "  background-color: #b40426;\n",
              "  color: #f1f1f1;\n",
              "}\n",
              "#T_98b3b_row0_col1 {\n",
              "  background-color: #f7b497;\n",
              "  color: #000000;\n",
              "}\n",
              "#T_98b3b_row0_col2 {\n",
              "  background-color: #c0d4f5;\n",
              "  color: #000000;\n",
              "}\n",
              "#T_98b3b_row0_col3, #T_98b3b_row0_col6 {\n",
              "  background-color: #9fbfff;\n",
              "  color: #000000;\n",
              "}\n",
              "#T_98b3b_row0_col4 {\n",
              "  background-color: #93b5fe;\n",
              "  color: #000000;\n",
              "}\n",
              "#T_98b3b_row0_col5 {\n",
              "  background-color: #f6bda2;\n",
              "  color: #000000;\n",
              "}\n",
              "#T_98b3b_row0_col7 {\n",
              "  background-color: #ead4c8;\n",
              "  color: #000000;\n",
              "}\n",
              "#T_98b3b_row1_col0 {\n",
              "  background-color: #f5c2aa;\n",
              "  color: #000000;\n",
              "}\n",
              "#T_98b3b_row1_col2 {\n",
              "  background-color: #cedaeb;\n",
              "  color: #000000;\n",
              "}\n",
              "#T_98b3b_row1_col3, #T_98b3b_row4_col2 {\n",
              "  background-color: #bbd1f8;\n",
              "  color: #000000;\n",
              "}\n",
              "#T_98b3b_row1_col4 {\n",
              "  background-color: #98b9ff;\n",
              "  color: #000000;\n",
              "}\n",
              "#T_98b3b_row1_col5 {\n",
              "  background-color: #f6bfa6;\n",
              "  color: #000000;\n",
              "}\n",
              "#T_98b3b_row1_col6, #T_98b3b_row4_col1 {\n",
              "  background-color: #6b8df0;\n",
              "  color: #f1f1f1;\n",
              "}\n",
              "#T_98b3b_row1_col7 {\n",
              "  background-color: #e5d8d1;\n",
              "  color: #000000;\n",
              "}\n",
              "#T_98b3b_row2_col0 {\n",
              "  background-color: #8db0fe;\n",
              "  color: #000000;\n",
              "}\n",
              "#T_98b3b_row2_col1 {\n",
              "  background-color: #c1d4f4;\n",
              "  color: #000000;\n",
              "}\n",
              "#T_98b3b_row2_col3 {\n",
              "  background-color: #e2dad5;\n",
              "  color: #000000;\n",
              "}\n",
              "#T_98b3b_row2_col4 {\n",
              "  background-color: #cbd8ee;\n",
              "  color: #000000;\n",
              "}\n",
              "#T_98b3b_row2_col5 {\n",
              "  background-color: #d5dbe5;\n",
              "  color: #000000;\n",
              "}\n",
              "#T_98b3b_row2_col6 {\n",
              "  background-color: #5470de;\n",
              "  color: #f1f1f1;\n",
              "}\n",
              "#T_98b3b_row2_col7 {\n",
              "  background-color: #b1cbfc;\n",
              "  color: #000000;\n",
              "}\n",
              "#T_98b3b_row3_col0 {\n",
              "  background-color: #6180e9;\n",
              "  color: #f1f1f1;\n",
              "}\n",
              "#T_98b3b_row3_col1 {\n",
              "  background-color: #a9c6fd;\n",
              "  color: #000000;\n",
              "}\n",
              "#T_98b3b_row3_col2 {\n",
              "  background-color: #e1dad6;\n",
              "  color: #000000;\n",
              "}\n",
              "#T_98b3b_row3_col4, #T_98b3b_row7_col0 {\n",
              "  background-color: #ead5c9;\n",
              "  color: #000000;\n",
              "}\n",
              "#T_98b3b_row3_col5 {\n",
              "  background-color: #c4d5f3;\n",
              "  color: #000000;\n",
              "}\n",
              "#T_98b3b_row3_col6 {\n",
              "  background-color: #536edd;\n",
              "  color: #f1f1f1;\n",
              "}\n",
              "#T_98b3b_row3_col7 {\n",
              "  background-color: #96b7ff;\n",
              "  color: #000000;\n",
              "}\n",
              "#T_98b3b_row4_col0, #T_98b3b_row4_col6, #T_98b3b_row6_col1, #T_98b3b_row6_col2, #T_98b3b_row6_col3, #T_98b3b_row6_col4, #T_98b3b_row6_col5, #T_98b3b_row6_col7 {\n",
              "  background-color: #3b4cc0;\n",
              "  color: #f1f1f1;\n",
              "}\n",
              "#T_98b3b_row4_col3 {\n",
              "  background-color: #e0dbd8;\n",
              "  color: #000000;\n",
              "}\n",
              "#T_98b3b_row4_col5 {\n",
              "  background-color: #a2c1ff;\n",
              "  color: #000000;\n",
              "}\n",
              "#T_98b3b_row4_col7, #T_98b3b_row7_col6 {\n",
              "  background-color: #90b2fe;\n",
              "  color: #000000;\n",
              "}\n",
              "#T_98b3b_row5_col0 {\n",
              "  background-color: #f4c5ad;\n",
              "  color: #000000;\n",
              "}\n",
              "#T_98b3b_row5_col1 {\n",
              "  background-color: #f7b99e;\n",
              "  color: #000000;\n",
              "}\n",
              "#T_98b3b_row5_col2 {\n",
              "  background-color: #e7d7ce;\n",
              "  color: #000000;\n",
              "}\n",
              "#T_98b3b_row5_col3 {\n",
              "  background-color: #dbdcde;\n",
              "  color: #000000;\n",
              "}\n",
              "#T_98b3b_row5_col4 {\n",
              "  background-color: #d1dae9;\n",
              "  color: #000000;\n",
              "}\n",
              "#T_98b3b_row5_col6 {\n",
              "  background-color: #7da0f9;\n",
              "  color: #f1f1f1;\n",
              "}\n",
              "#T_98b3b_row5_col7 {\n",
              "  background-color: #f7a688;\n",
              "  color: #000000;\n",
              "}\n",
              "#T_98b3b_row6_col0 {\n",
              "  background-color: #4a63d3;\n",
              "  color: #f1f1f1;\n",
              "}\n",
              "#T_98b3b_row7_col1 {\n",
              "  background-color: #f1cdba;\n",
              "  color: #000000;\n",
              "}\n",
              "#T_98b3b_row7_col2 {\n",
              "  background-color: #d7dce3;\n",
              "  color: #000000;\n",
              "}\n",
              "#T_98b3b_row7_col3 {\n",
              "  background-color: #c5d6f2;\n",
              "  color: #000000;\n",
              "}\n",
              "#T_98b3b_row7_col4 {\n",
              "  background-color: #cfdaea;\n",
              "  color: #000000;\n",
              "}\n",
              "#T_98b3b_row7_col5 {\n",
              "  background-color: #f59f80;\n",
              "  color: #000000;\n",
              "}\n",
              "</style>\n",
              "<table id=\"T_98b3b\" class=\"dataframe\">\n",
              "  <thead>\n",
              "    <tr>\n",
              "      <th class=\"blank level0\" >&nbsp;</th>\n",
              "      <th id=\"T_98b3b_level0_col0\" class=\"col_heading level0 col0\" >GRE Score</th>\n",
              "      <th id=\"T_98b3b_level0_col1\" class=\"col_heading level0 col1\" >TOEFL Score</th>\n",
              "      <th id=\"T_98b3b_level0_col2\" class=\"col_heading level0 col2\" >University Rating</th>\n",
              "      <th id=\"T_98b3b_level0_col3\" class=\"col_heading level0 col3\" >SOP</th>\n",
              "      <th id=\"T_98b3b_level0_col4\" class=\"col_heading level0 col4\" >LOR</th>\n",
              "      <th id=\"T_98b3b_level0_col5\" class=\"col_heading level0 col5\" >CGPA</th>\n",
              "      <th id=\"T_98b3b_level0_col6\" class=\"col_heading level0 col6\" >Research</th>\n",
              "      <th id=\"T_98b3b_level0_col7\" class=\"col_heading level0 col7\" >Chance of Admit</th>\n",
              "    </tr>\n",
              "  </thead>\n",
              "  <tbody>\n",
              "    <tr>\n",
              "      <th id=\"T_98b3b_level0_row0\" class=\"row_heading level0 row0\" >GRE Score</th>\n",
              "      <td id=\"T_98b3b_row0_col0\" class=\"data row0 col0\" >1.00</td>\n",
              "      <td id=\"T_98b3b_row0_col1\" class=\"data row0 col1\" >0.84</td>\n",
              "      <td id=\"T_98b3b_row0_col2\" class=\"data row0 col2\" >0.67</td>\n",
              "      <td id=\"T_98b3b_row0_col3\" class=\"data row0 col3\" >0.61</td>\n",
              "      <td id=\"T_98b3b_row0_col4\" class=\"data row0 col4\" >0.56</td>\n",
              "      <td id=\"T_98b3b_row0_col5\" class=\"data row0 col5\" >0.83</td>\n",
              "      <td id=\"T_98b3b_row0_col6\" class=\"data row0 col6\" >0.58</td>\n",
              "      <td id=\"T_98b3b_row0_col7\" class=\"data row0 col7\" >0.80</td>\n",
              "    </tr>\n",
              "    <tr>\n",
              "      <th id=\"T_98b3b_level0_row1\" class=\"row_heading level0 row1\" >TOEFL Score</th>\n",
              "      <td id=\"T_98b3b_row1_col0\" class=\"data row1 col0\" >0.84</td>\n",
              "      <td id=\"T_98b3b_row1_col1\" class=\"data row1 col1\" >1.00</td>\n",
              "      <td id=\"T_98b3b_row1_col2\" class=\"data row1 col2\" >0.70</td>\n",
              "      <td id=\"T_98b3b_row1_col3\" class=\"data row1 col3\" >0.66</td>\n",
              "      <td id=\"T_98b3b_row1_col4\" class=\"data row1 col4\" >0.57</td>\n",
              "      <td id=\"T_98b3b_row1_col5\" class=\"data row1 col5\" >0.83</td>\n",
              "      <td id=\"T_98b3b_row1_col6\" class=\"data row1 col6\" >0.49</td>\n",
              "      <td id=\"T_98b3b_row1_col7\" class=\"data row1 col7\" >0.79</td>\n",
              "    </tr>\n",
              "    <tr>\n",
              "      <th id=\"T_98b3b_level0_row2\" class=\"row_heading level0 row2\" >University Rating</th>\n",
              "      <td id=\"T_98b3b_row2_col0\" class=\"data row2 col0\" >0.67</td>\n",
              "      <td id=\"T_98b3b_row2_col1\" class=\"data row2 col1\" >0.70</td>\n",
              "      <td id=\"T_98b3b_row2_col2\" class=\"data row2 col2\" >1.00</td>\n",
              "      <td id=\"T_98b3b_row2_col3\" class=\"data row2 col3\" >0.73</td>\n",
              "      <td id=\"T_98b3b_row2_col4\" class=\"data row2 col4\" >0.66</td>\n",
              "      <td id=\"T_98b3b_row2_col5\" class=\"data row2 col5\" >0.75</td>\n",
              "      <td id=\"T_98b3b_row2_col6\" class=\"data row2 col6\" >0.45</td>\n",
              "      <td id=\"T_98b3b_row2_col7\" class=\"data row2 col7\" >0.71</td>\n",
              "    </tr>\n",
              "    <tr>\n",
              "      <th id=\"T_98b3b_level0_row3\" class=\"row_heading level0 row3\" >SOP</th>\n",
              "      <td id=\"T_98b3b_row3_col0\" class=\"data row3 col0\" >0.61</td>\n",
              "      <td id=\"T_98b3b_row3_col1\" class=\"data row3 col1\" >0.66</td>\n",
              "      <td id=\"T_98b3b_row3_col2\" class=\"data row3 col2\" >0.73</td>\n",
              "      <td id=\"T_98b3b_row3_col3\" class=\"data row3 col3\" >1.00</td>\n",
              "      <td id=\"T_98b3b_row3_col4\" class=\"data row3 col4\" >0.73</td>\n",
              "      <td id=\"T_98b3b_row3_col5\" class=\"data row3 col5\" >0.72</td>\n",
              "      <td id=\"T_98b3b_row3_col6\" class=\"data row3 col6\" >0.44</td>\n",
              "      <td id=\"T_98b3b_row3_col7\" class=\"data row3 col7\" >0.68</td>\n",
              "    </tr>\n",
              "    <tr>\n",
              "      <th id=\"T_98b3b_level0_row4\" class=\"row_heading level0 row4\" >LOR</th>\n",
              "      <td id=\"T_98b3b_row4_col0\" class=\"data row4 col0\" >0.56</td>\n",
              "      <td id=\"T_98b3b_row4_col1\" class=\"data row4 col1\" >0.57</td>\n",
              "      <td id=\"T_98b3b_row4_col2\" class=\"data row4 col2\" >0.66</td>\n",
              "      <td id=\"T_98b3b_row4_col3\" class=\"data row4 col3\" >0.73</td>\n",
              "      <td id=\"T_98b3b_row4_col4\" class=\"data row4 col4\" >1.00</td>\n",
              "      <td id=\"T_98b3b_row4_col5\" class=\"data row4 col5\" >0.67</td>\n",
              "      <td id=\"T_98b3b_row4_col6\" class=\"data row4 col6\" >0.40</td>\n",
              "      <td id=\"T_98b3b_row4_col7\" class=\"data row4 col7\" >0.67</td>\n",
              "    </tr>\n",
              "    <tr>\n",
              "      <th id=\"T_98b3b_level0_row5\" class=\"row_heading level0 row5\" >CGPA</th>\n",
              "      <td id=\"T_98b3b_row5_col0\" class=\"data row5 col0\" >0.83</td>\n",
              "      <td id=\"T_98b3b_row5_col1\" class=\"data row5 col1\" >0.83</td>\n",
              "      <td id=\"T_98b3b_row5_col2\" class=\"data row5 col2\" >0.75</td>\n",
              "      <td id=\"T_98b3b_row5_col3\" class=\"data row5 col3\" >0.72</td>\n",
              "      <td id=\"T_98b3b_row5_col4\" class=\"data row5 col4\" >0.67</td>\n",
              "      <td id=\"T_98b3b_row5_col5\" class=\"data row5 col5\" >1.00</td>\n",
              "      <td id=\"T_98b3b_row5_col6\" class=\"data row5 col6\" >0.52</td>\n",
              "      <td id=\"T_98b3b_row5_col7\" class=\"data row5 col7\" >0.87</td>\n",
              "    </tr>\n",
              "    <tr>\n",
              "      <th id=\"T_98b3b_level0_row6\" class=\"row_heading level0 row6\" >Research</th>\n",
              "      <td id=\"T_98b3b_row6_col0\" class=\"data row6 col0\" >0.58</td>\n",
              "      <td id=\"T_98b3b_row6_col1\" class=\"data row6 col1\" >0.49</td>\n",
              "      <td id=\"T_98b3b_row6_col2\" class=\"data row6 col2\" >0.45</td>\n",
              "      <td id=\"T_98b3b_row6_col3\" class=\"data row6 col3\" >0.44</td>\n",
              "      <td id=\"T_98b3b_row6_col4\" class=\"data row6 col4\" >0.40</td>\n",
              "      <td id=\"T_98b3b_row6_col5\" class=\"data row6 col5\" >0.52</td>\n",
              "      <td id=\"T_98b3b_row6_col6\" class=\"data row6 col6\" >1.00</td>\n",
              "      <td id=\"T_98b3b_row6_col7\" class=\"data row6 col7\" >0.55</td>\n",
              "    </tr>\n",
              "    <tr>\n",
              "      <th id=\"T_98b3b_level0_row7\" class=\"row_heading level0 row7\" >Chance of Admit</th>\n",
              "      <td id=\"T_98b3b_row7_col0\" class=\"data row7 col0\" >0.80</td>\n",
              "      <td id=\"T_98b3b_row7_col1\" class=\"data row7 col1\" >0.79</td>\n",
              "      <td id=\"T_98b3b_row7_col2\" class=\"data row7 col2\" >0.71</td>\n",
              "      <td id=\"T_98b3b_row7_col3\" class=\"data row7 col3\" >0.68</td>\n",
              "      <td id=\"T_98b3b_row7_col4\" class=\"data row7 col4\" >0.67</td>\n",
              "      <td id=\"T_98b3b_row7_col5\" class=\"data row7 col5\" >0.87</td>\n",
              "      <td id=\"T_98b3b_row7_col6\" class=\"data row7 col6\" >0.55</td>\n",
              "      <td id=\"T_98b3b_row7_col7\" class=\"data row7 col7\" >1.00</td>\n",
              "    </tr>\n",
              "  </tbody>\n",
              "</table>\n"
            ]
          },
          "metadata": {},
          "execution_count": 108
        }
      ],
      "source": [
        "ap.corr().style.background_gradient(cmap='coolwarm').set_precision(2)"
      ]
    },
    {
      "cell_type": "code",
      "source": [],
      "metadata": {
        "id": "oryMevYbJA5_"
      },
      "execution_count": null,
      "outputs": []
    },
    {
      "cell_type": "code",
      "execution_count": null,
      "metadata": {
        "id": "5Np47M42BwCV"
      },
      "outputs": [],
      "source": [
        "#pd.plotting.scatter_matrix(ap, figsize=(15, 15), marker='o', hist_kwds={'bins': 20}, s=10, alpha=.8)\n",
        "None"
      ]
    },
    {
      "cell_type": "code",
      "source": [
        "X = ap.drop('Chance of Admit', axis=1)\n",
        "y = ap['Chance of Admit']"
      ],
      "metadata": {
        "id": "0H9wr5UXGWKd"
      },
      "execution_count": null,
      "outputs": []
    },
    {
      "cell_type": "code",
      "source": [
        "X = (X - X.mean())/X.std()\n",
        "ones = pd.DataFrame(np.ones((X.shape[0],1)), columns=[\"w0\"])\n",
        "#X = pd.concat([X, ones], axis=1)"
      ],
      "metadata": {
        "id": "_QXTIWMNGO91"
      },
      "execution_count": null,
      "outputs": []
    },
    {
      "cell_type": "code",
      "source": [
        "from sklearn.model_selection import train_test_split\n",
        "\n",
        "# Split the data into training, validation, and testing sets as 70:15:15\n",
        "X_train, X_valtest, y_train, y_valtest = train_test_split(X, y, test_size=0.3, random_state=42)\n",
        "X_val, X_test, y_val, y_test = train_test_split(X_valtest, y_valtest, test_size=0.5, random_state=42)"
      ],
      "metadata": {
        "id": "CPNR4DjkPzvQ"
      },
      "execution_count": null,
      "outputs": []
    },
    {
      "cell_type": "code",
      "source": [
        "from sklearn.preprocessing import StandardScaler\n",
        "\n",
        "scaler = StandardScaler()\n",
        "\n",
        "# Fit the scaler on the training set\n",
        "scaler.fit(X_train)\n",
        "\n",
        "# Transform the training, validation, and testing sets\n",
        "X_train_scaled = scaler.transform(X_train)\n",
        "X_val_scaled = scaler.transform(X_val)\n",
        "X_test_scaled = scaler.transform(X_test)"
      ],
      "metadata": {
        "id": "tLtrf0f0FXUU"
      },
      "execution_count": null,
      "outputs": []
    },
    {
      "cell_type": "markdown",
      "source": [
        "When preparing your data for machine learning, it is important to split your data into training and test sets before doing any scaling or transformation. You should apply any scaling or transformation on the training set only, and then apply the same transformation to the test set using the parameters learned from the training set. This approach ensures that your model is evaluated on unseen data and avoids any data leakage issues.\n",
        "\n",
        "Here I'm also using validation set"
      ],
      "metadata": {
        "id": "_9UAIGlnOCgJ"
      }
    },
    {
      "cell_type": "code",
      "source": [
        "from sklearn.linear_model import LinearRegression\n",
        "from sklearn.preprocessing import PolynomialFeatures\n",
        "from sklearn.metrics import mean_squared_error, r2_score\n",
        "\n",
        "# Assume X_train, X_val, y_train, y_val are your training and validation sets\n",
        "\n",
        "# Linear Regression\n",
        "lr = LinearRegression()\n",
        "lr.fit(X_train_scaled, y_train)\n",
        "\n",
        "# Evaluate on validation set\n",
        "y_pred = lr.predict(X_val_scaled)\n",
        "mse = mean_squared_error(y_val, y_pred)\n",
        "r2 = r2_score(y_val, y_pred)\n",
        "\n",
        "print(\"Linear Regression\")\n",
        "print(\"MSE val: \", mse)\n",
        "print(\"R2 val score: \", r2)\n",
        "\n",
        "# Evaluate on test set\n",
        "y_pred_test = lr.predict(X_test_scaled)\n",
        "mse_test = mean_squared_error(y_test, y_pred_test)\n",
        "r2_test = r2_score(y_test, y_pred_test)\n",
        "\n",
        "print()\n",
        "print(\"MSE test : \", mse_test)\n",
        "print(\"R2 test score: \", r2_test)"
      ],
      "metadata": {
        "colab": {
          "base_uri": "https://localhost:8080/"
        },
        "id": "WFXaqw-qA8Ra",
        "outputId": "3e2f7a12-24c6-4d99-96c3-6d83c3f088a9"
      },
      "execution_count": null,
      "outputs": [
        {
          "output_type": "stream",
          "name": "stdout",
          "text": [
            "Linear Regression\n",
            "MSE val:  0.00439007100150178\n",
            "R2 val score:  0.8044037454591015\n",
            "\n",
            "MSE test :  0.004915572691460812\n",
            "R2 test score:  0.7751853331140721\n"
          ]
        }
      ]
    },
    {
      "cell_type": "markdown",
      "source": [
        "If the points are closely clustered around the diagonal line, it indicates good performance of the model."
      ],
      "metadata": {
        "id": "qTnTVYQoDAAB"
      }
    },
    {
      "cell_type": "code",
      "source": [
        "import matplotlib.pyplot as plt\n",
        "import numpy as np\n",
        "\n",
        "# Plot actual vs predicted for linear regression\n",
        "plt.scatter(y_val, y_pred)\n",
        "plt.plot([0, 1], [0, 1], '--k')  # diagonal line for reference\n",
        "plt.xlabel('Actual')\n",
        "plt.ylabel('Predicted')\n",
        "plt.title('Linear Regression')\n",
        "plt.show()"
      ],
      "metadata": {
        "colab": {
          "base_uri": "https://localhost:8080/",
          "height": 472
        },
        "id": "QCI0IzgxCPHA",
        "outputId": "e9d4197e-2ebb-4b88-d83a-4278608a36d2"
      },
      "execution_count": null,
      "outputs": [
        {
          "output_type": "display_data",
          "data": {
            "text/plain": [
              "<Figure size 640x480 with 1 Axes>"
            ],
            "image/png": "[encoded data removed]"
          },
          "metadata": {}
        }
      ]
    },
    {
      "cell_type": "code",
      "source": [
        "max_r2, best_deg = 0, 0\n",
        "\n",
        "r2s = []\n",
        "\n",
        "degrees = np.arange(1,5)\n",
        "\n",
        "for deg in degrees:\n",
        "  #poly features\n",
        "  poly_features = PolynomialFeatures(degree=deg, include_bias=False)\n",
        "  X_train_poly = poly_features.fit_transform(X_train_scaled)\n",
        "\n",
        "  #linear Regression\n",
        "  lr_poly = LinearRegression()\n",
        "  lr_poly.fit(X_train_poly, y_train)  \n",
        "\n",
        "  #test\n",
        "  X_val_poly = poly_features.transform(X_val_scaled)\n",
        "  y_pred_poly = lr_poly.predict(X_val_poly)\n",
        "\n",
        "  #mse_poly = mean_squared_error(y_val, y_pred_poly)\n",
        "  r2_poly = r2_score(y_val, y_pred_poly)\n",
        "  r2s.append(r2_poly)\n",
        "\n",
        "  if r2_poly > max_r2:\n",
        "    max_r2 = r2_poly\n",
        "    best_deg = deg\n",
        "\n",
        "fig = plt.figure()\n",
        "ax = fig.add_subplot(111)\n",
        "ax.plot(degrees, r2s)\n",
        "ax.set_yscale('log')\n",
        "ax.set_xlabel('Degree')\n",
        "ax.set_ylabel('R2')\n",
        "\n"
      ],
      "metadata": {
        "colab": {
          "base_uri": "https://localhost:8080/",
          "height": 466
        },
        "id": "kotXl39kPHpY",
        "outputId": "7d696bd1-3b49-4d21-a048-7545823975f1"
      },
      "execution_count": null,
      "outputs": [
        {
          "output_type": "execute_result",
          "data": {
            "text/plain": [
              "Text(0, 0.5, 'R2')"
            ]
          },
          "metadata": {},
          "execution_count": 116
        },
        {
          "output_type": "display_data",
          "data": {
            "text/plain": [
              "<Figure size 640x480 with 1 Axes>"
            ],
            "image/png": "[encoded data removed]"
          },
          "metadata": {}
        }
      ]
    },
    {
      "cell_type": "code",
      "source": [
        "# Polynomial Regression\n",
        "degree = best_deg  # degree of the polynomial\n",
        "poly = PolynomialFeatures(degree)\n",
        "X_train_poly = poly.fit_transform(X_train_scaled)\n",
        "\n",
        "lr_poly = LinearRegression()\n",
        "lr_poly.fit(X_train_poly, y_train)\n",
        "\n",
        "# Evaluate on validation set\n",
        "X_val_poly = poly.transform(X_val_scaled)\n",
        "y_pred_poly = lr_poly.predict(X_val_poly)\n",
        "mse_poly = mean_squared_error(y_val, y_pred_poly)\n",
        "r2_poly = r2_score(y_val, y_pred_poly)\n",
        "\n",
        "print(\"Polynomial Regression (degree = {})\".format(degree))\n",
        "print(\"MSE: \", mse_poly)\n",
        "print(\"R2 score: \", r2_poly)\n",
        "\n",
        "# Evaluate on test set\n",
        "X_test_poly = poly.transform(X_test_scaled)\n",
        "y_pred_test_poly = lr_poly.predict(X_test_poly)\n",
        "mse_poly = mean_squared_error(y_test, y_pred_test_poly)\n",
        "r2_poly = r2_score(y_test, y_pred_test_poly)\n",
        "\n",
        "print()\n",
        "print(\"MSE test : \", mse_poly)\n",
        "print(\"R2 test score: \", r2_poly)"
      ],
      "metadata": {
        "colab": {
          "base_uri": "https://localhost:8080/"
        },
        "id": "cHTxHoxzBzzd",
        "outputId": "31345d2e-1365-41d0-e9ef-aacc7afd20a0"
      },
      "execution_count": null,
      "outputs": [
        {
          "output_type": "stream",
          "name": "stdout",
          "text": [
            "Polynomial Regression (degree = 2)\n",
            "MSE:  0.004290886879410488\n",
            "R2 score:  0.8088228181311261\n",
            "\n",
            "MSE test :  0.004961155900078977\n",
            "R2 test score:  0.7731005762598226\n"
          ]
        }
      ]
    },
    {
      "cell_type": "code",
      "source": [
        "# Plot actual vs predicted for polynomial regression\n",
        "plt.scatter(y_test, y_pred_test_poly)\n",
        "plt.plot([0, 1], [0, 1], '--k')  # diagonal line for reference\n",
        "plt.xlabel('Actual')\n",
        "plt.ylabel('Predicted')\n",
        "plt.title('Polynomial Regression (degree = {})'.format(degree))\n",
        "plt.show()"
      ],
      "metadata": {
        "colab": {
          "base_uri": "https://localhost:8080/",
          "height": 472
        },
        "id": "OKV0wPfFCLZF",
        "outputId": "84ca405b-7d96-4fa5-ab31-661b2c9cac1d"
      },
      "execution_count": null,
      "outputs": [
        {
          "output_type": "display_data",
          "data": {
            "text/plain": [
              "<Figure size 640x480 with 1 Axes>"
            ],
            "image/png": "[encoded data removed]"
          },
          "metadata": {}
        }
      ]
    },
    {
      "cell_type": "markdown",
      "source": [
        "# Now let's implement other models but before that we should check for multicolinearity"
      ],
      "metadata": {
        "id": "naRnYcrPDav2"
      }
    },
    {
      "cell_type": "code",
      "source": [
        "import pandas as pd\n",
        "\n",
        "corr_matrix = X.corr()\n",
        "\n",
        "# Display the correlation matrix\n",
        "print(corr_matrix)"
      ],
      "metadata": {
        "colab": {
          "base_uri": "https://localhost:8080/"
        },
        "id": "qTkniEiMDpMB",
        "outputId": "fd32020b-2a7e-4fe6-b14a-8986df8a3346"
      },
      "execution_count": null,
      "outputs": [
        {
          "output_type": "stream",
          "name": "stdout",
          "text": [
            "                   GRE Score  TOEFL Score  University Rating       SOP  \\\n",
            "GRE Score           1.000000     0.835977           0.668976  0.612831   \n",
            "TOEFL Score         0.835977     1.000000           0.695590  0.657981   \n",
            "University Rating   0.668976     0.695590           1.000000  0.734523   \n",
            "SOP                 0.612831     0.657981           0.734523  1.000000   \n",
            "LOR                 0.557555     0.567721           0.660123  0.729593   \n",
            "CGPA                0.833060     0.828417           0.746479  0.718144   \n",
            "Research            0.580391     0.489858           0.447783  0.444029   \n",
            "\n",
            "                        LOR      CGPA  Research  \n",
            "GRE Score          0.557555  0.833060  0.580391  \n",
            "TOEFL Score        0.567721  0.828417  0.489858  \n",
            "University Rating  0.660123  0.746479  0.447783  \n",
            "SOP                0.729593  0.718144  0.444029  \n",
            "LOR                1.000000  0.670211  0.396859  \n",
            "CGPA               0.670211  1.000000  0.521654  \n",
            "Research           0.396859  0.521654  1.000000  \n"
          ]
        }
      ]
    },
    {
      "cell_type": "code",
      "source": [
        "import seaborn as sns\n",
        "\n",
        "# Create a heatmap of the correlation matrix\n",
        "sns.heatmap(corr_matrix, cmap='coolwarm')\n",
        "None"
      ],
      "metadata": {
        "colab": {
          "base_uri": "https://localhost:8080/",
          "height": 541
        },
        "id": "czgMo75EEOIC",
        "outputId": "14c13d74-822c-4182-afa2-dde2147d1a1d"
      },
      "execution_count": null,
      "outputs": [
        {
          "output_type": "display_data",
          "data": {
            "text/plain": [
              "<Figure size 640x480 with 2 Axes>"
            ],
            "image/png": "[encoded data removed]"
          },
          "metadata": {}
        }
      ]
    },
    {
      "cell_type": "code",
      "source": [],
      "metadata": {
        "id": "AxRMUektEqaJ"
      },
      "execution_count": null,
      "outputs": []
    },
    {
      "cell_type": "code",
      "source": [
        "#remove that"
      ],
      "metadata": {
        "id": "xKgSBVtKDUk9"
      },
      "execution_count": null,
      "outputs": []
    },
    {
      "cell_type": "code",
      "source": [
        "from sklearn.linear_model import LassoCV\n",
        "\n",
        "alphas = [0.001, 0.01, 0.1, 1]\n",
        "\n",
        "lasso_cv = LassoCV(alphas=alphas, cv=5)\n",
        "\n",
        "lasso_cv.fit(X_train_scaled, y_train)\n",
        "\n",
        "print(\"Best alpha:\", lasso_cv.alpha_)\n",
        "print(\"R^2 score with best alpha:\", lasso_cv.score(X_train_scaled, y_train))\n",
        "\n",
        "# Evaluate the model on the validation set\n",
        "val_score = lasso_cv.score(X_val_scaled, y_val)\n",
        "print(\"Validation R^2 score:\", val_score)\n",
        "\n",
        "# Evaluate the model on the test set\n",
        "test_score = lasso_cv.score(X_test_scaled, y_test)\n",
        "print(\"Test R^2 score:\", test_score)"
      ],
      "metadata": {
        "colab": {
          "base_uri": "https://localhost:8080/"
        },
        "id": "MFOL3eZyKmYe",
        "outputId": "6fc5dd68-74c3-4366-957f-dfdfd640ba99"
      },
      "execution_count": null,
      "outputs": [
        {
          "output_type": "stream",
          "name": "stdout",
          "text": [
            "Best alpha: 0.001\n",
            "R^2 score with best alpha: 0.8018983880974342\n",
            "Validation R^2 score: 0.8025343635846552\n",
            "Test R^2 score: 0.7735909116351233\n"
          ]
        }
      ]
    },
    {
      "cell_type": "code",
      "source": [
        "from sklearn.linear_model import RidgeCV\n",
        "\n",
        "# Assume X_train and y_train are your training data\n",
        "# Define the range of alpha values to try\n",
        "alphas = [1, 10, 20, 30]\n",
        "\n",
        "# Create a RidgeCV object with the range of alpha values and set cv=5 for 5-fold cross-validation\n",
        "ridge_cv = RidgeCV(alphas=alphas, cv=5)\n",
        "\n",
        "# Fit the RidgeCV object to the training data\n",
        "ridge_cv.fit(X_train_scaled, y_train)\n",
        "\n",
        "# Print the best alpha value and corresponding R^2 score\n",
        "print(\"Best alpha:\", ridge_cv.alpha_)\n",
        "print(\"R^2 score with best alpha:\", ridge_cv.score(X_train_scaled, y_train))\n",
        "\n",
        "# Evaluate the model on the validation set\n",
        "val_score = ridge_cv.score(X_val_scaled, y_val)\n",
        "print(\"Validation R^2 score:\", val_score)\n",
        "\n",
        "# Evaluate the model on the test set\n",
        "test_score = ridge_cv.score(X_test_scaled, y_test)\n",
        "print(\"Test R^2 score:\", test_score)"
      ],
      "metadata": {
        "colab": {
          "base_uri": "https://localhost:8080/"
        },
        "id": "1ffO__kaKK2A",
        "outputId": "07d86f0c-9226-43d4-bd25-c4c0a82837d9"
      },
      "execution_count": null,
      "outputs": [
        {
          "output_type": "stream",
          "name": "stdout",
          "text": [
            "Best alpha: 20\n",
            "R^2 score with best alpha: 0.7997682537474963\n",
            "Validation R^2 score: 0.8017673150451672\n",
            "Test R^2 score: 0.7706951492863229\n"
          ]
        }
      ]
    },
    {
      "cell_type": "code",
      "source": [
        "from sklearn.linear_model import ElasticNet\n",
        "from sklearn.model_selection import GridSearchCV\n",
        "\n",
        "# Set up the Elastic Net model\n",
        "elastic_net = ElasticNet()\n",
        "\n",
        "# Set up the parameter grid\n",
        "param_grid = {'alpha': [0.001, 0.01, 0.1, 1, 10],\n",
        "              'l1_ratio': [0.1, 0.3, 0.5, 0.7, 0.9]}\n",
        "\n",
        "# Perform grid search using 5-fold cross-validation\n",
        "grid_search = GridSearchCV(elastic_net, param_grid, cv=5)\n",
        "\n",
        "# Fit the grid search to the data\n",
        "grid_search.fit(X_train_scaled, y_train)\n",
        "\n",
        "# Print the best alpha and l1_ratio values\n",
        "print(\"Best alpha value:\", grid_search.best_params_['alpha'])\n",
        "print(\"Best l1_ratio value:\", grid_search.best_params_['l1_ratio'])\n",
        "\n",
        "# Print R^2 score with best hyperparameters\n",
        "elastic_net_best = ElasticNet(alpha=grid_search.best_params_['alpha'], l1_ratio=grid_search.best_params_['l1_ratio'])\n",
        "elastic_net_best.fit(X_train_scaled, y_train)\n",
        "print(\"R^2 score with best hyperparameters:\", elastic_net_best.score(X_train_scaled, y_train))\n",
        "\n",
        "# Evaluate the model on the validation set\n",
        "val_score = elastic_net_best.score(X_val_scaled, y_val)\n",
        "print(\"Validation R^2 score:\", val_score)\n",
        "\n",
        "# Evaluate the model on the test set\n",
        "test_score = elastic_net_best.score(X_test_scaled, y_test)\n",
        "print(\"Test R^2 score:\", test_score)\n"
      ],
      "metadata": {
        "colab": {
          "base_uri": "https://localhost:8080/"
        },
        "id": "IivGuPSoXeZL",
        "outputId": "a99f8905-777c-416d-b4ce-c2673c3d0596"
      },
      "execution_count": null,
      "outputs": [
        {
          "output_type": "stream",
          "name": "stdout",
          "text": [
            "Best alpha value: 0.01\n",
            "Best l1_ratio value: 0.3\n",
            "R^2 score with best hyperparameters: 0.8011846414643453\n",
            "Validation R^2 score: 0.7981842399741452\n",
            "Test R^2 score: 0.7697760111849525\n"
          ]
        }
      ]
    },
    {
      "cell_type": "markdown",
      "source": [
        "More complex models show worse results. It may indicate that the relationship between the input features and output variable is relatively simple and can be modeled effectively by these simpler models."
      ],
      "metadata": {
        "id": "Mh8Vm3jAYBig"
      }
    },
    {
      "cell_type": "code",
      "source": [
        "from sklearn.tree import DecisionTreeRegressor\n",
        "from sklearn.model_selection import GridSearchCV\n",
        "\n",
        "# Define the parameter grid to search\n",
        "param_grid = {'max_depth': [1, 2, 3, 4, 5],\n",
        "              'min_samples_split': [2, 3, 4, 5, 6]}\n",
        "\n",
        "# Create a DecisionTreeRegressor object\n",
        "dt = DecisionTreeRegressor()\n",
        "\n",
        "# Create a GridSearchCV object with the parameter grid to search and 5-fold cross-validation\n",
        "grid_search = GridSearchCV(dt, param_grid, cv=5)\n",
        "\n",
        "# Fit the grid search object to the training data\n",
        "grid_search.fit(X_train_scaled, y_train)\n",
        "\n",
        "# Print the best hyperparameters and R^2 score\n",
        "print(\"Best hyperparameters:\", grid_search.best_params_)\n",
        "print(\"Training R^2 score:\", grid_search.best_score_)\n",
        "print(\"Validation R^2 score:\", grid_search.score(X_val_scaled, y_val))\n",
        "print(\"Test R^2 score:\", grid_search.score(X_test_scaled, y_test))"
      ],
      "metadata": {
        "colab": {
          "base_uri": "https://localhost:8080/"
        },
        "id": "oXqaxY1-YIdx",
        "outputId": "376207f7-b16b-46cd-b1eb-8c0125b4e3e9"
      },
      "execution_count": null,
      "outputs": [
        {
          "output_type": "stream",
          "name": "stdout",
          "text": [
            "Best hyperparameters: {'max_depth': 3, 'min_samples_split': 2}\n",
            "Training R^2 score: 0.675855437300249\n",
            "Validation R^2 score: 0.6962357249902773\n",
            "Test R^2 score: 0.7690375977273619\n"
          ]
        }
      ]
    },
    {
      "cell_type": "code",
      "source": [
        "from sklearn.ensemble import RandomForestRegressor\n",
        "from sklearn.model_selection import GridSearchCV\n",
        "\n",
        "# Define the parameter grid to search\n",
        "param_grid = {'n_estimators': [30, 50, 100],\n",
        "              'max_depth': [2, 3, 4, 5],\n",
        "              'min_samples_split': [3, 4, 5, 6]}\n",
        "\n",
        "# Create a RandomForestRegressor object\n",
        "rf = RandomForestRegressor()\n",
        "\n",
        "# Create a GridSearchCV object with the parameter grid to search and 5-fold cross-validation\n",
        "grid_search = GridSearchCV(rf, param_grid, cv=5)\n",
        "\n",
        "# Fit the grid search object to the training data\n",
        "grid_search.fit(X_train_scaled, y_train)\n",
        "\n",
        "# Print the best hyperparameters and R^2 score\n",
        "print(\"Best hyperparameters:\", grid_search.best_params_)\n",
        "print(\"Training R^2 score:\", grid_search.best_score_)\n",
        "print(\"Validation R^2 score:\", grid_search.score(X_val_scaled, y_val))\n",
        "print(\"Test R^2 score:\", grid_search.score(X_test_scaled, y_test))"
      ],
      "metadata": {
        "colab": {
          "base_uri": "https://localhost:8080/"
        },
        "id": "zTcIWsHcgBTL",
        "outputId": "146b13bb-9c54-4008-bd29-1bcf5a2de33e"
      },
      "execution_count": null,
      "outputs": [
        {
          "output_type": "stream",
          "name": "stdout",
          "text": [
            "Best hyperparameters: {'max_depth': 3, 'min_samples_split': 4, 'n_estimators': 50}\n",
            "Training R^2 score: 0.7395195432087691\n",
            "Validation R^2 score: 0.7561898004397727\n",
            "Test R^2 score: 0.7811379323445257\n"
          ]
        }
      ]
    },
    {
      "cell_type": "markdown",
      "source": [
        "I just wanted to see how Gradient Boosting will work here"
      ],
      "metadata": {
        "id": "2ovn-ZIBL6Lu"
      }
    },
    {
      "cell_type": "code",
      "source": [
        "from xgboost import XGBRegressor\n",
        "from sklearn.metrics import r2_score\n",
        "\n",
        "# Create an instance of the XGBRegressor class\n",
        "xgb = XGBRegressor()\n",
        "\n",
        "# Define the hyperparameter grid\n",
        "param_grid = {'n_estimators': [100, 500, 1000],\n",
        "              'max_depth': [3, 5, 7],\n",
        "              'learning_rate': [0.01, 0.1, 1.0]}\n",
        "\n",
        "# Perform a grid search to find the best hyperparameters\n",
        "grid_search = GridSearchCV(xgb, param_grid, cv=5)\n",
        "grid_search.fit(X_train_scaled, y_train)\n",
        "\n",
        "# Print the best hyperparameters\n",
        "print(\"Best hyperparameters:\", grid_search.best_params_)\n",
        "\n",
        "# Train the XGBoost model with the best hyperparameters\n",
        "xgb_best = XGBRegressor(**grid_search.best_params_)\n",
        "xgb_best.fit(X_train_scaled, y_train)\n",
        "\n",
        "# Evaluate the model on the validation set\n",
        "val_pred = xgb_best.predict(X_val_scaled)\n",
        "val_score = r2_score(y_val, val_pred)\n",
        "print(\"Validation R^2 score:\", val_score)\n",
        "\n",
        "# Evaluate the model on the test set\n",
        "test_pred = xgb_best.predict(X_test_scaled)\n",
        "test_score = r2_score(y_test, test_pred)\n",
        "print(\"Test R^2 score:\", test_score)\n"
      ],
      "metadata": {
        "colab": {
          "base_uri": "https://localhost:8080/"
        },
        "id": "nmrGJFSqHWRh",
        "outputId": "37480f28-5230-4025-f903-a15fb702943e"
      },
      "execution_count": null,
      "outputs": [
        {
          "output_type": "stream",
          "name": "stdout",
          "text": [
            "Best hyperparameters: {'learning_rate': 0.01, 'max_depth': 3, 'n_estimators': 500}\n",
            "Validation R^2 score: 0.7674707619448469\n",
            "Test R^2 score: 0.7785060170559497\n"
          ]
        }
      ]
    }
  ],
  "metadata": {
    "colab": {
      "provenance": [],
      "mount_file_id": "11XJdKVUrJVeG_YtfQ9Hpmzq_2jTfpQGp",
      "authorship_tag": "ABX9TyMdpNK6evrzkUa5OutSWasw",
      "include_colab_link": true
    },
    "kernelspec": {
      "display_name": "Python 3",
      "name": "python3"
    },
    "language_info": {
      "name": "python"
    }
  },
  "nbformat": 4,
  "nbformat_minor": 0
}